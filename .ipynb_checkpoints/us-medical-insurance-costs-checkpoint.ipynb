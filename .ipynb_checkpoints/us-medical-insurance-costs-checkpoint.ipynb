{
 "cells": [
  {
   "cell_type": "markdown",
   "metadata": {},
   "source": [
    "# U.S. Medical Insurance Costs"
   ]
  },
  {
   "cell_type": "markdown",
   "metadata": {
    "tags": []
   },
   "source": [
    "This project aims to showcase some investgative skills learnt so far (45% complete) through the Data Science Career Path on Codecademyy. It will involve a CSV file which I will analyze to come up with some findings and potitnital use cases for this dataset."
   ]
  },
  {
   "cell_type": "markdown",
   "metadata": {},
   "source": [
    "From observing the data set, it is structured as follows:\n",
    "|Name|Type|\n",
    "|:---|:---|\n",
    "|age|numerical (int)\n",
    "|sex|categorical (male/female)\n",
    "|bmi|numerical (float)\n",
    "|children|numerical (int)\n",
    "|smoker|categorical (yes/no)\n",
    "|region|categorical\n",
    "|charges|numerical (float)"
   ]
  },
  {
   "cell_type": "markdown",
   "metadata": {},
   "source": [
    "[comment]: <> (For analysis the data will need to be slightly adjusted to allow for easy processing. \"smoker\" and \"sex\" can be changed to a binay category value. 1 = \"yes\" and \"male\". )\n",
    "There doesn't seem to be any missing data."
   ]
  },
  {
   "cell_type": "code",
   "execution_count": 1,
   "metadata": {
    "tags": []
   },
   "outputs": [],
   "source": [
    "#import csv into variable\n",
    "import csv\n",
    "\n",
    "insurance_data = csv.DictReader(open(\"insurance.csv\"))\n",
    "\n",
    "#store columns as perameters\n",
    "age = []\n",
    "sex = []\n",
    "bmi = []\n",
    "children = []\n",
    "smoker = []\n",
    "region = []\n",
    "charges = []\n",
    "\n",
    "for row in insurance_data:\n",
    "    age.append(int(row['age']))\n",
    "    sex.append(row['sex'])\n",
    "    bmi.append(float(row['bmi']))\n",
    "    children.append(int(row['children']))\n",
    "    smoker.append(row['smoker'])\n",
    "    region.append(row['region'])\n",
    "    charges.append(float(row['charges']))\n",
    "    "
   ]
  },
  {
   "cell_type": "markdown",
   "metadata": {},
   "source": [
    "Goals:\n",
    "- [ ] investicgative statisitcs, (mean, mode, range, count, of each column)\n",
    "- [ ] do some investication into correlations between columns\n",
    "\n"
   ]
  },
  {
   "cell_type": "markdown",
   "metadata": {
    "tags": []
   },
   "source": [
    "## Investigative Statistics\n",
    "\n",
    "I will first do some investigative statistics to understand the dataset better. Will inlude varius displays of values and charts.\n",
    "\n",
    "- mean\n",
    "- median\n",
    "- mode\n",
    "- range\n",
    "- interquartile range\n",
    "- standard deviation\n",
    "- variance\n"
   ]
  },
  {
   "cell_type": "code",
   "execution_count": 2,
   "metadata": {
    "scrolled": true,
    "tags": []
   },
   "outputs": [],
   "source": [
    "#helper funcitons\n",
    "import statistics\n",
    "from scipy import stats\n",
    "\n",
    "def get_mean(data): return sum(data)/len(data)\n",
    "\n",
    "def get_median(data): return statistics.median(data)\n",
    "\n",
    "def get_mode(data): return statistics.mode(data)\n",
    "\n",
    "def get_range(data): return abs(max(data) - min(data))\n",
    "\n",
    "def get_iqr(data): return stats.iqr(data)\n",
    "\n",
    "def get_stdev(data): return statistics.stdev(data)\n",
    "\n",
    "def get_variance(data): return statistics.variance(data)\n",
    "   "
   ]
  },
  {
   "cell_type": "code",
   "execution_count": 37,
   "metadata": {
    "tags": []
   },
   "outputs": [
    {
     "data": {
      "text/plain": [
       "{'mean': 39.20702541106129,\n",
       " 'median': 39.0,\n",
       " 'mode': 18,\n",
       " 'range': 46,\n",
       " 'iqr': 24.0,\n",
       " 'stdev': 14.049960379216156,\n",
       " 'variance': 197.40138665754378,\n",
       " 'max': 64,\n",
       " 'min': 18}"
      ]
     },
     "execution_count": 37,
     "metadata": {},
     "output_type": "execute_result"
    }
   ],
   "source": [
    "age_info = {\n",
    "    \"mean\":get_mean(age),\n",
    "    \"median\":get_median(age),\n",
    "    \"mode\":get_mode(age),\n",
    "    \"range\":get_range(age),\n",
    "    \"iqr\":get_iqr(age),\n",
    "    \"stdev\":get_stdev(age),\n",
    "    \"variance\":get_variance(age),\n",
    "    \"max\":max(age),\n",
    "    \"min\":min(age)\n",
    "}\n",
    "age_info"
   ]
  },
  {
   "cell_type": "code",
   "execution_count": 59,
   "metadata": {
    "tags": []
   },
   "outputs": [
    {
     "data": {
      "image/png": "[encoded data removed]",
      "text/plain": [
       "<Figure size 640x480 with 2 Axes>"
      ]
     },
     "metadata": {},
     "output_type": "display_data"
    }
   ],
   "source": [
    "import matplotlib.pyplot as plt\n",
    "#to fix errors when making labels\n",
    "from importlib import reload\n",
    "plt=reload(plt)\n",
    "\n",
    "fig, ax = plt.subplots(2,1)\n",
    "fig.tight_layout()\n",
    "\n",
    "x = [1, 2, 3]\n",
    "y = [7, 13, 24]\n",
    "\n",
    "#distribution analysis histogram\n",
    "ax[0].hist(age, bins=20, color='c', edgecolor='k')\n",
    "ax[0].axvline(age_info['mean'], color='k', linestyle='dashed')\n",
    "ax[0].text(age_info['mean'] + 0.5, 160, f'mean: {round(age_info[\"mean\"])}', rotation=90, va='top')\n",
    "ax[0].axvline(age_info['mode'], color='k', linestyle='dashed')\n",
    "ax[0].text(age_info['mode'] + 0.5, 160, f'mode: {round(age_info[\"mode\"])}', rotation=90, va='top')\n",
    "ax[0].axvline(age_info['median'], color='k', linestyle='dashed')\n",
    "ax[0].text(age_info['median'] - 1.5, 160, f'median: {round(age_info[\"median\"])}', rotation=90, va='top')\n",
    "\n",
    "#outlier analysis box plot\n",
    "ax[1].boxplot(age, vert= 0, widths=0.5)\n",
    "ax[1].set_yticklabels(['Age'])\n",
    "ax[1].text(age_info['median'] + 0.5, 1.3, f'iqr: {round(age_info[\"iqr\"])}', va='center', ha='center')\n",
    "ax[1].text(age_info['max'] + 1, 1, f'max: {round(age_info[\"max\"])}', va='center', ha='center', rotation=90)\n",
    "ax[1].text(age_info['min'] - 1, 1, f'min: {round(age_info[\"min\"])}', va='center', ha='center', rotation=90)\n",
    "\n",
    "plt.show()\n"
   ]
  },
  {
   "cell_type": "code",
   "execution_count": null,
   "metadata": {},
   "outputs": [],
   "source": []
  },
  {
   "cell_type": "code",
   "execution_count": null,
   "metadata": {},
   "outputs": [],
   "source": []
  }
 ],
 "metadata": {
  "kernelspec": {
   "display_name": "Python 3 (ipykernel)",
   "language": "python",
   "name": "python3"
  },
  "language_info": {
   "codemirror_mode": {
    "name": "ipython",
    "version": 3
   },
   "file_extension": ".py",
   "mimetype": "text/x-python",
   "name": "python",
   "nbconvert_exporter": "python",
   "pygments_lexer": "ipython3",
   "version": "3.11.5"
  }
 },
 "nbformat": 4,
 "nbformat_minor": 4
}
